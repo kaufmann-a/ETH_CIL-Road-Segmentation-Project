{
 "cells": [
  {
   "cell_type": "code",
   "execution_count": 27,
   "metadata": {},
   "outputs": [],
   "source": [
    "import numpy as np"
   ]
  },
  {
   "cell_type": "code",
   "execution_count": 28,
   "metadata": {},
   "outputs": [],
   "source": [
    "import cv2"
   ]
  },
  {
   "cell_type": "code",
   "execution_count": 29,
   "metadata": {},
   "outputs": [],
   "source": [
    "import matplotlib.pyplot as plt"
   ]
  },
  {
   "cell_type": "code",
   "execution_count": 30,
   "metadata": {},
   "outputs": [],
   "source": [
    "#http://datahacker.rs/006-morphological-transformations-with-opencv-in-python/\n",
    "img = cv2.imread('predictions/pred_0.png', cv2.IMREAD_GRAYSCALE)\n",
    "imgnotGray = cv2.imread('predictions/pred_0.png')\n"
   ]
  },
  {
   "cell_type": "code",
   "execution_count": 31,
   "metadata": {},
   "outputs": [],
   "source": [
    "height = np.size(img, 0)\n",
    "width = np.size(img, 1)"
   ]
  },
  {
   "cell_type": "code",
   "execution_count": 32,
   "metadata": {},
   "outputs": [],
   "source": [
    "window_name = 'image'\n",
    "cv2.imshow('checkinput', img)\n",
    "cv2.imwrite('results/checkinput.png', img)\n",
    "cv2.waitKey(0) \n",
    "#closing all open windows \n",
    "cv2.destroyAllWindows() "
   ]
  },
  {
   "cell_type": "code",
   "execution_count": 33,
   "metadata": {},
   "outputs": [
    {
     "data": {
      "text/plain": [
       "False"
      ]
     },
     "execution_count": 33,
     "metadata": {},
     "output_type": "execute_result"
    },
    {
     "data": {
      "image/png": "[encoded data removed]",
      "text/plain": [
       "<Figure size 432x288 with 3 Axes>"
      ]
     },
     "metadata": {},
     "output_type": "display_data"
    }
   ],
   "source": [
    "## Morphological transforms\n",
    "# Creating 3x3 kernels of different shapes\n",
    "kernel_1 =np.array ( [  [1,1,1], [0,0,0], [0,0,0] ]  )\n",
    "kernel_2 =np.array ( [  [0,0,1], [0,0,1], [0,0,1] ]  )\n",
    "kernel_3 =np.array ( [  [0,1,0], [1,1,1], [0,1,0] ]  )\n",
    "\n",
    "kernel_1 = kernel_1.astype('uint8')\n",
    "kernel_2 = kernel_2.astype('uint8')\n",
    "kernel_3 = kernel_3.astype('uint8')\n",
    "\n",
    "titles=[\"kernel_1\",\"kernel_2\",\"kernel_3\"]\n",
    "images=[ kernel_1, kernel_2, kernel_3]\n",
    "for i in range(3):\n",
    "  plt.subplot(1, 3, i+1), plt.imshow(images[i], \"gray\")\n",
    "  plt.title(titles[i])\n",
    "  plt.xticks([]),plt.yticks([])\n",
    "plt.show\n",
    "\n",
    "# Performing dilation and erosion \n",
    "dilation_1 = cv2.dilate(img, kernel_1)\n",
    "dilation_2 = cv2.dilate(img, kernel_2)\n",
    "dilation_3 = cv2.dilate(img, kernel_3)\n",
    "erosion_1 = cv2.erode(img, kernel_1)\n",
    "erosion_2 = cv2.erode(img, kernel_2)\n",
    "erosion_3 = cv2.erode(img, kernel_3)\n",
    "\n",
    "titles=[\"dilation_1\",\"dilation_2\",\"dilation_3\",\"erosion_1\",\"erosion_2\",\n",
    "        \"erosion_3\"]\n",
    "images=[ dilation_1, dilation_2, dilation_3, erosion_1, erosion_2,\n",
    "        erosion_3]\n",
    "\n",
    "#for i in range(6):\n",
    "#  plt.subplot(2, 3, i+1), plt.imshow(images[i], \"gray\")\n",
    "#  plt.title(titles[i])\n",
    "#  plt.xticks([]),plt.yticks([])\n",
    "#plt.show \n",
    "\n",
    "cv2.imshow('checkinput', img)\n",
    "cv2.imshow('dilation1', dilation_1)\n",
    "cv2.waitKey(0) \n",
    "cv2.destroyAllWindows()\n",
    "\n",
    "cv2.imshow('checkinput', img)\n",
    "cv2.imshow('dilation2', dilation_2)\n",
    "cv2.waitKey(0) \n",
    "cv2.destroyAllWindows()\n",
    "\n",
    "cv2.imshow('checkinput', img)\n",
    "cv2.imshow('dilation3', dilation_3)\n",
    "cv2.waitKey(0) \n",
    "cv2.destroyAllWindows()\n",
    "\n",
    "cv2.imshow('checkinput', img)\n",
    "cv2.imshow('erosion1', erosion_1)\n",
    "cv2.waitKey(0) \n",
    "cv2.destroyAllWindows()\n",
    "\n",
    "cv2.imshow('checkinput', img)\n",
    "cv2.imshow('erosion2', erosion_2)\n",
    "cv2.waitKey(0) \n",
    "cv2.destroyAllWindows()\n",
    "\n",
    "cv2.imshow('checkinput', img)\n",
    "cv2.imshow('erosion3', erosion_3)\n",
    "cv2.waitKey(0) \n",
    "cv2.destroyAllWindows()\n",
    "\n",
    "cv2.imwrite('results/kernel1.png', kernel_1)\n",
    "cv2.imwrite('results/kernel2.png', kernel_2)\n",
    "cv2.imwrite('results/kernel3.png', kernel_3)\n",
    "\n",
    "cv2.imwrite('results/dilation1.png', dilation_1)\n",
    "cv2.imwrite('results/dilation2.png', dilation_2)\n",
    "cv2.imwrite('results/dilation3.png', dilation_3)\n",
    "\n",
    "cv2.imwrite('results/erosion1.png', erosion_1)\n",
    "cv2.imwrite('results/erosion2.png', erosion_2)\n",
    "cv2.imwrite('results/erosion3.png', erosion_3)"
   ]
  },
  {
   "cell_type": "code",
   "execution_count": 34,
   "metadata": {},
   "outputs": [
    {
     "data": {
      "text/plain": [
       "False"
      ]
     },
     "execution_count": 34,
     "metadata": {},
     "output_type": "execute_result"
    }
   ],
   "source": [
    "## Selected morphological transforms\n",
    "kernel_1 =np.array ( [  [1,1,1], [0,0,0], [0,0,0] ]  )\n",
    "kernel_2 =np.array ( [  [0,0,1], [0,0,1], [0,0,1] ]  )\n",
    "kernel_3 =np.array ( [  [0,1,0], [1,1,1], [0,1,0] ]  )\n",
    "\n",
    "kernel_1 = kernel_1.astype('uint8')\n",
    "kernel_2 = kernel_2.astype('uint8')\n",
    "kernel_3 = kernel_3.astype('uint8')\n",
    "\n",
    "dilation_1 = cv2.dilate(img, kernel_1)\n",
    "dilation_12 = cv2.dilate(dilation_1, kernel_2)\n",
    "dilation_123 = cv2.dilate(dilation_12, kernel_3)\n",
    "\n",
    "cv2.imshow('checkinput', img)\n",
    "cv2.imshow('dilation_1', dilation_1)\n",
    "cv2.waitKey(0) \n",
    "cv2.destroyAllWindows()\n",
    "\n",
    "cv2.imshow('checkinput', img)\n",
    "cv2.imshow('dilation_12', dilation_12)\n",
    "cv2.waitKey(0) \n",
    "cv2.destroyAllWindows()\n",
    "\n",
    "cv2.imshow('checkinput', img)\n",
    "cv2.imshow('dilation_123', dilation_123)\n",
    "cv2.waitKey(0) \n",
    "cv2.destroyAllWindows()\n",
    "\n",
    "median = cv2.medianBlur(dilation_123, 5)\n",
    "median = cv2.medianBlur(median, 5)\n",
    "cv2.imshow('checkinput', img)\n",
    "cv2.imshow('medianblurred', median)\n",
    "cv2.waitKey(0) \n",
    "cv2.destroyAllWindows()\n",
    "\n",
    "cv2.imwrite('results/dilation_12.png', dilation_12)\n",
    "cv2.imwrite('results/dilation_123.png', dilation_123)"
   ]
  },
  {
   "cell_type": "code",
   "execution_count": 35,
   "metadata": {},
   "outputs": [],
   "source": [
    "median = cv2.medianBlur(dilation_123, 5)\n",
    "median = cv2.medianBlur(median, 5)\n",
    "median = cv2.medianBlur(median, 5)\n",
    "cv2.imshow('checkinput', img)\n",
    "cv2.imshow('medianblurred', median)\n",
    "cv2.waitKey(0) \n",
    "cv2.destroyAllWindows()"
   ]
  },
  {
   "cell_type": "code",
   "execution_count": 36,
   "metadata": {},
   "outputs": [
    {
     "data": {
      "image/png": "[encoded data removed]",
      "text/plain": [
       "<Figure size 432x288 with 2 Axes>"
      ]
     },
     "metadata": {},
     "output_type": "display_data"
    },
    {
     "data": {
      "text/plain": [
       "False"
      ]
     },
     "execution_count": 36,
     "metadata": {},
     "output_type": "execute_result"
    }
   ],
   "source": [
    "# Canny edge detection\n",
    "edges = cv2.Canny(dilation_123,100,200)\n",
    "cv2.imshow('checkinput', img)\n",
    "cv2.imshow('dilation_123', dilation_123)\n",
    "cv2.imshow('edges', edges)\n",
    "cv2.waitKey(0) \n",
    "cv2.destroyAllWindows()\n",
    "\n",
    "cv2.waitKey(0) \n",
    "cv2.destroyAllWindows()\n",
    "plt.subplot(121),plt.imshow(img,cmap = 'gray')\n",
    "plt.title('Original Image'), plt.xticks([]), plt.yticks([])\n",
    "plt.subplot(122),plt.imshow(edges,cmap = 'gray')\n",
    "plt.title('Edge Image'), plt.xticks([]), plt.yticks([])\n",
    "plt.show()\n",
    "\n",
    "cv2.imwrite('results/Edge.png', edges)"
   ]
  },
  {
   "cell_type": "code",
   "execution_count": 37,
   "metadata": {},
   "outputs": [],
   "source": [
    "## HOUGH TRANSFORM\n",
    "#https://docs.opencv.org/3.4/d9/db0/tutorial_hough_lines.html\n",
    "# Detecting straight lines in an image"
   ]
  },
  {
   "cell_type": "code",
   "execution_count": 38,
   "metadata": {},
   "outputs": [
    {
     "ename": "error",
     "evalue": "OpenCV(4.5.1) C:\\Users\\appveyor\\AppData\\Local\\Temp\\1\\pip-req-build-kh7iq4w7\\opencv\\modules\\highgui\\src\\window.cpp:376: error: (-215:Assertion failed) size.width>0 && size.height>0 in function 'cv::imshow'\n",
     "output_type": "error",
     "traceback": [
      "\u001b[1;31m---------------------------------------------------------------------------\u001b[0m",
      "\u001b[1;31merror\u001b[0m                                     Traceback (most recent call last)",
      "\u001b[1;32m<ipython-input-38-c483f2ec5220>\u001b[0m in \u001b[0;36m<module>\u001b[1;34m\u001b[0m\n\u001b[0;32m     15\u001b[0m         \u001b[0mcv2\u001b[0m\u001b[1;33m.\u001b[0m\u001b[0mline\u001b[0m\u001b[1;33m(\u001b[0m\u001b[0mimgnotGray\u001b[0m\u001b[1;33m,\u001b[0m\u001b[1;33m(\u001b[0m\u001b[0mx1\u001b[0m\u001b[1;33m,\u001b[0m\u001b[0my1\u001b[0m\u001b[1;33m)\u001b[0m\u001b[1;33m,\u001b[0m\u001b[1;33m(\u001b[0m\u001b[0mx2\u001b[0m\u001b[1;33m,\u001b[0m\u001b[0my2\u001b[0m\u001b[1;33m)\u001b[0m\u001b[1;33m,\u001b[0m\u001b[1;33m(\u001b[0m\u001b[1;36m0\u001b[0m\u001b[1;33m,\u001b[0m\u001b[1;36m0\u001b[0m\u001b[1;33m,\u001b[0m\u001b[1;36m255\u001b[0m\u001b[1;33m)\u001b[0m\u001b[1;33m,\u001b[0m\u001b[1;36m2\u001b[0m\u001b[1;33m)\u001b[0m\u001b[1;33m\u001b[0m\u001b[1;33m\u001b[0m\u001b[0m\n\u001b[0;32m     16\u001b[0m \u001b[1;33m\u001b[0m\u001b[0m\n\u001b[1;32m---> 17\u001b[1;33m \u001b[0mcv2\u001b[0m\u001b[1;33m.\u001b[0m\u001b[0mimshow\u001b[0m\u001b[1;33m(\u001b[0m\u001b[1;34m'lines'\u001b[0m\u001b[1;33m,\u001b[0m \u001b[0mimgnotGray\u001b[0m\u001b[1;33m)\u001b[0m\u001b[1;33m\u001b[0m\u001b[1;33m\u001b[0m\u001b[0m\n\u001b[0m\u001b[0;32m     18\u001b[0m \u001b[0mcv2\u001b[0m\u001b[1;33m.\u001b[0m\u001b[0mwaitKey\u001b[0m\u001b[1;33m(\u001b[0m\u001b[1;36m0\u001b[0m\u001b[1;33m)\u001b[0m\u001b[1;33m\u001b[0m\u001b[1;33m\u001b[0m\u001b[0m\n\u001b[0;32m     19\u001b[0m \u001b[0mcv2\u001b[0m\u001b[1;33m.\u001b[0m\u001b[0mdestroyAllWindows\u001b[0m\u001b[1;33m(\u001b[0m\u001b[1;33m)\u001b[0m\u001b[1;33m\u001b[0m\u001b[1;33m\u001b[0m\u001b[0m\n",
      "\u001b[1;31merror\u001b[0m: OpenCV(4.5.1) C:\\Users\\appveyor\\AppData\\Local\\Temp\\1\\pip-req-build-kh7iq4w7\\opencv\\modules\\highgui\\src\\window.cpp:376: error: (-215:Assertion failed) size.width>0 && size.height>0 in function 'cv::imshow'\n"
     ]
    }
   ],
   "source": [
    "# Detect points that form a line using just dilation\n",
    "lines = cv2.HoughLines(edges,1,np.pi/180,50,50)\n",
    "\n",
    "imgnotGray = cv2.imread('pred_0.png')\n",
    "for x in range(0, len(lines)):\n",
    "    for rho,theta in lines[x]:\n",
    "        a = np.cos(theta)\n",
    "        b = np.sin(theta)\n",
    "        x0 = a*rho\n",
    "        y0 = b*rho\n",
    "        x1 = int(x0 + 1000*(-b))\n",
    "        y1 = int(y0 + 1000*(a))\n",
    "        x2 = int(x0 - 1000*(-b))\n",
    "        y2 = int(y0 - 1000*(a))\n",
    "        cv2.line(imgnotGray,(x1,y1),(x2,y2),(0,0,255),2)\n",
    "\n",
    "cv2.imshow('lines', imgnotGray)\n",
    "cv2.waitKey(0)\n",
    "cv2.destroyAllWindows()\n",
    "cv2.imwrite('results/DilationHoughtransform.png', imgnotGray)"
   ]
  },
  {
   "cell_type": "code",
   "execution_count": 13,
   "metadata": {},
   "outputs": [
    {
     "data": {
      "image/png": "[encoded data removed]",
      "text/plain": [
       "<Figure size 432x288 with 2 Axes>"
      ]
     },
     "metadata": {},
     "output_type": "display_data"
    },
    {
     "ename": "error",
     "evalue": "OpenCV(4.5.1) C:\\Users\\appveyor\\AppData\\Local\\Temp\\1\\pip-req-build-kh7iq4w7\\opencv\\modules\\highgui\\src\\window.cpp:376: error: (-215:Assertion failed) size.width>0 && size.height>0 in function 'cv::imshow'\n",
     "output_type": "error",
     "traceback": [
      "\u001b[1;31m---------------------------------------------------------------------------\u001b[0m",
      "\u001b[1;31merror\u001b[0m                                     Traceback (most recent call last)",
      "\u001b[1;32m<ipython-input-13-23ec49e8166e>\u001b[0m in \u001b[0;36m<module>\u001b[1;34m\u001b[0m\n\u001b[0;32m     30\u001b[0m         \u001b[0mcv2\u001b[0m\u001b[1;33m.\u001b[0m\u001b[0mline\u001b[0m\u001b[1;33m(\u001b[0m\u001b[0mimgnotGray\u001b[0m\u001b[1;33m,\u001b[0m\u001b[1;33m(\u001b[0m\u001b[0mx1\u001b[0m\u001b[1;33m,\u001b[0m\u001b[0my1\u001b[0m\u001b[1;33m)\u001b[0m\u001b[1;33m,\u001b[0m\u001b[1;33m(\u001b[0m\u001b[0mx2\u001b[0m\u001b[1;33m,\u001b[0m\u001b[0my2\u001b[0m\u001b[1;33m)\u001b[0m\u001b[1;33m,\u001b[0m\u001b[1;33m(\u001b[0m\u001b[1;36m0\u001b[0m\u001b[1;33m,\u001b[0m\u001b[1;36m0\u001b[0m\u001b[1;33m,\u001b[0m\u001b[1;36m255\u001b[0m\u001b[1;33m)\u001b[0m\u001b[1;33m,\u001b[0m\u001b[1;36m2\u001b[0m\u001b[1;33m)\u001b[0m\u001b[1;33m\u001b[0m\u001b[1;33m\u001b[0m\u001b[0m\n\u001b[0;32m     31\u001b[0m \u001b[1;33m\u001b[0m\u001b[0m\n\u001b[1;32m---> 32\u001b[1;33m \u001b[0mcv2\u001b[0m\u001b[1;33m.\u001b[0m\u001b[0mimshow\u001b[0m\u001b[1;33m(\u001b[0m\u001b[1;34m'lines'\u001b[0m\u001b[1;33m,\u001b[0m \u001b[0mimgnotGray\u001b[0m\u001b[1;33m)\u001b[0m\u001b[1;33m\u001b[0m\u001b[1;33m\u001b[0m\u001b[0m\n\u001b[0m\u001b[0;32m     33\u001b[0m \u001b[0mcv2\u001b[0m\u001b[1;33m.\u001b[0m\u001b[0mwaitKey\u001b[0m\u001b[1;33m(\u001b[0m\u001b[1;36m0\u001b[0m\u001b[1;33m)\u001b[0m\u001b[1;33m\u001b[0m\u001b[1;33m\u001b[0m\u001b[0m\n\u001b[0;32m     34\u001b[0m \u001b[0mcv2\u001b[0m\u001b[1;33m.\u001b[0m\u001b[0mdestroyAllWindows\u001b[0m\u001b[1;33m(\u001b[0m\u001b[1;33m)\u001b[0m\u001b[1;33m\u001b[0m\u001b[1;33m\u001b[0m\u001b[0m\n",
      "\u001b[1;31merror\u001b[0m: OpenCV(4.5.1) C:\\Users\\appveyor\\AppData\\Local\\Temp\\1\\pip-req-build-kh7iq4w7\\opencv\\modules\\highgui\\src\\window.cpp:376: error: (-215:Assertion failed) size.width>0 && size.height>0 in function 'cv::imshow'\n"
     ]
    }
   ],
   "source": [
    "# Canny edge detection\n",
    "edges = cv2.Canny(median,100,200)\n",
    "cv2.imshow('checkinput', img)\n",
    "cv2.imshow('medianblurred', median)\n",
    "cv2.imshow('edges', edges)\n",
    "cv2.waitKey(0) \n",
    "cv2.destroyAllWindows()\n",
    "\n",
    "plt.subplot(121),plt.imshow(img,cmap = 'gray')\n",
    "plt.title('Original Image'), plt.xticks([]), plt.yticks([])\n",
    "plt.subplot(122),plt.imshow(edges,cmap = 'gray')\n",
    "plt.title('Edge Image'), plt.xticks([]), plt.yticks([])\n",
    "plt.show()\n",
    "\n",
    "cv2.imwrite('results/Edge.png', edges)\n",
    "# Detect points that form a line using median blurring\n",
    "lines = cv2.HoughLines(edges,1,np.pi/180,50,50)\n",
    "\n",
    "imgnotGray = cv2.imread('pred_0.png')\n",
    "for x in range(0, len(lines)):\n",
    "    for rho,theta in lines[x]:\n",
    "        a = np.cos(theta)\n",
    "        b = np.sin(theta)\n",
    "        x0 = a*rho\n",
    "        y0 = b*rho\n",
    "        x1 = int(x0 + 1000*(-b))\n",
    "        y1 = int(y0 + 1000*(a))\n",
    "        x2 = int(x0 - 1000*(-b))\n",
    "        y2 = int(y0 - 1000*(a))\n",
    "        cv2.line(imgnotGray,(x1,y1),(x2,y2),(0,0,255),2)\n",
    "\n",
    "cv2.imshow('lines', imgnotGray)\n",
    "cv2.waitKey(0)\n",
    "cv2.destroyAllWindows()\n",
    "cv2.imwrite('results/MedianBlurredHoughtransform.png', imgnotGray)"
   ]
  },
  {
   "cell_type": "code",
   "execution_count": null,
   "metadata": {},
   "outputs": [],
   "source": [
    "#http://datahacker.rs/006-morphological-transformations-with-opencv-in-python/\n",
    "#origimg = cv2.imread('input_0.png', cv2.IMREAD_GRAYSCALE)\n",
    "#lineimg = origimg\n",
    "#cv2.imshow('Orig Image', origimg)\n",
    "#cv2.waitKey(0)\n",
    "#cv2.destroyAllWindows()\n",
    "\n",
    "#edges = cv2.Canny(origimg, 200, 800)\n",
    "# Detect points that form a line\n",
    "#lines = cv2.HoughLinesP(edges, 1, np.pi/180, 50, minLineLength=10, maxLineGap=250)\n",
    "# Draw lines on the image\n",
    "#for line in lines:\n",
    "#    x1, y1, x2, y2 = line[0]\n",
    "#    cv2.line(lineimg, (x1, y1), (x2, y2), (255, 0, 0), 3)\n",
    "# Show result\n",
    "#cv2.imshow(\"Result Image\", lineimg)\n",
    "#cv2.imshow('Orig Image', origimg)\n",
    "\n",
    "#cv2.waitKey(0)\n",
    "#cv2.destroyAllWindows()"
   ]
  },
  {
   "cell_type": "code",
   "execution_count": null,
   "metadata": {},
   "outputs": [],
   "source": [
    "#https://www.sciencedirect.com/science/article/pii/S0262885610001253"
   ]
  },
  {
   "cell_type": "code",
   "execution_count": null,
   "metadata": {},
   "outputs": [],
   "source": [
    "# Check sharpening of image. Clear out blurred edges.\n",
    "#kernel = np.array([[-1,-1,-1], [-1,9,-1], [-1,-1,-1]])\n",
    "#sharpen = cv2.filter2D(img, -1, kernel)\n",
    "#cv2.imshow('checkinput', img)\n",
    "#cv2.imshow('sharpened', sharpen)\n",
    "#cv2.waitKey(0) \n",
    "#cv2.destroyAllWindows()\n",
    "\n"
   ]
  }
 ],
 "metadata": {
  "kernelspec": {
   "display_name": "Python 3",
   "language": "python",
   "name": "python3"
  },
  "language_info": {
   "codemirror_mode": {
    "name": "ipython",
    "version": 3
   },
   "file_extension": ".py",
   "mimetype": "text/x-python",
   "name": "python",
   "nbconvert_exporter": "python",
   "pygments_lexer": "ipython3",
   "version": "3.8.3"
  }
 },
 "nbformat": 4,
 "nbformat_minor": 4
}
