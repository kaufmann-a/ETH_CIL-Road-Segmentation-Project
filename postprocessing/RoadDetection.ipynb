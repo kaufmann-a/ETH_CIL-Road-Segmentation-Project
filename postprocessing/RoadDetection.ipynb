{
 "cells": [
  {
   "cell_type": "code",
   "execution_count": 1,
   "metadata": {},
   "outputs": [],
   "source": [
    "import numpy as np\n",
    "import cv2\n",
    "import matplotlib.pyplot as plt"
   ]
  },
  {
   "cell_type": "code",
   "execution_count": 2,
   "metadata": {},
   "outputs": [],
   "source": [
    "img = cv2.imread('predictions/pred_0.png', cv2.IMREAD_GRAYSCALE)\n",
    "imgnotGray = cv2.imread('predictions/pred_0.png')\n",
    "height = np.size(img, 0)\n",
    "width = np.size(img, 1)"
   ]
  },
  {
   "cell_type": "code",
   "execution_count": 3,
   "metadata": {},
   "outputs": [],
   "source": [
    "window_name = 'image'\n",
    "cv2.imshow('checkinput', img)\n",
    "#cv2.imwrite('results/checkinput.png', img)\n",
    "cv2.waitKey(0) \n",
    "#closing all open windows \n",
    "cv2.destroyAllWindows()"
   ]
  },
  {
   "cell_type": "code",
   "execution_count": 29,
   "metadata": {},
   "outputs": [],
   "source": [
    "kernel_1 =np.array ( [[1,1,1,1,1,1,1,1,1,1,1,1,1,1,1,1],\n",
    "                      [1,1,1,1,1,1,1,1,1,1,1,1,1,1,1,1],\n",
    "                      [1,1,1,1,1,1,1,1,1,1,1,1,1,1,1,1],\n",
    "                      [1,1,1,1,1,1,1,1,1,1,1,1,1,1,1,1],\n",
    "                      \n",
    "                      [1,1,1,1,1,1,1,1,1,1,1,1,1,1,1,1],\n",
    "                      [1,1,1,1,1,1,1,1,1,1,1,1,1,1,1,1],\n",
    "                      [1,1,1,1,1,1,1,1,1,1,1,1,1,1,1,1],\n",
    "                      [1,1,1,1,1,1,1,1,1,1,1,1,1,1,1,1],\n",
    "                      \n",
    "                      [1,1,1,1,1,1,1,1,1,1,1,1,1,1,1,1],\n",
    "                      [1,1,1,1,1,1,1,1,1,1,1,1,1,1,1,1],\n",
    "                      [1,1,1,1,1,1,1,1,1,1,1,1,1,1,1,1],\n",
    "                      [1,1,1,1,1,1,1,1,1,1,1,1,1,1,1,1],\n",
    "                      \n",
    "                      [1,1,1,1,1,1,1,1,1,1,1,1,1,1,1,1],\n",
    "                      [1,1,1,1,1,1,1,1,1,1,1,1,1,1,1,1],\n",
    "                      [1,1,1,1,1,1,1,1,1,1,1,1,1,1,1,1],\n",
    "                      [1,1,1,1,1,1,1,1,1,1,1,1,1,1,1,1],\n",
    "                      \n",
    "                     ])\n",
    "\n",
    "kernel_1 = kernel_1.astype('uint8')\n",
    "\n",
    "dilation_1 = cv2.dilate(img, kernel_1)\n",
    "dilation_1 = cv2.dilate(dilation_1, kernel_1)\n",
    "dilation_1 = cv2.dilate(dilation_1, kernel_1)\n",
    "dilation_1 = cv2.dilate(dilation_1, kernel_1)\n",
    "\n",
    "\n",
    "dilation_1 = cv2.erode(dilation_1, kernel_1)\n",
    "dilation_1 = cv2.erode(dilation_1, kernel_1)\n",
    "dilation_1 = cv2.erode(dilation_1, kernel_1)\n",
    "dilation_1 = cv2.erode(dilation_1, kernel_1)\n",
    "\n",
    "cv2.imshow('checkinput', img)\n",
    "cv2.imshow('dilation_1', dilation_1)\n",
    "cv2.waitKey(0) \n",
    "cv2.destroyAllWindows()\n",
    "\n",
    "median = cv2.medianBlur(dilation_1, 5)\n",
    "median = cv2.medianBlur(median, 5)\n",
    "cv2.imshow('checkinput', img)\n",
    "cv2.imshow('medianblurred', median)\n",
    "cv2.waitKey(0) \n",
    "cv2.destroyAllWindows()"
   ]
  },
  {
   "cell_type": "code",
   "execution_count": 30,
   "metadata": {},
   "outputs": [
    {
     "data": {
      "image/png": "[encoded data removed]",
      "text/plain": [
       "<Figure size 432x288 with 2 Axes>"
      ]
     },
     "metadata": {},
     "output_type": "display_data"
    }
   ],
   "source": [
    "# Canny edge detection\n",
    "edges = cv2.Canny(dilation_1,100,200)\n",
    "cv2.imshow('checkinput', img)\n",
    "cv2.imshow('dilation_1', dilation_1)\n",
    "cv2.imshow('edges', edges)\n",
    "cv2.waitKey(0) \n",
    "cv2.destroyAllWindows()\n",
    "\n",
    "cv2.waitKey(0) \n",
    "cv2.destroyAllWindows()\n",
    "plt.subplot(121),plt.imshow(img,cmap = 'gray')\n",
    "plt.title('Original Image'), plt.xticks([]), plt.yticks([])\n",
    "plt.subplot(122),plt.imshow(edges, cmap = 'gray')\n",
    "plt.title('Edge Image'), plt.xticks([]), plt.yticks([])\n",
    "plt.show()\n",
    "\n",
    "#cv2.imwrite('results/Edge.png', edges)"
   ]
  },
  {
   "cell_type": "code",
   "execution_count": null,
   "metadata": {},
   "outputs": [],
   "source": [
    "#lines = cv2.HoughLinesP(edges, rho=2, theta=np.pi/180, threshold=100, minLineLength=20, maxLineGap=5)\n"
   ]
  },
  {
   "cell_type": "code",
   "execution_count": 31,
   "metadata": {},
   "outputs": [],
   "source": [
    "rho = 1  # distance resolution in pixels of the Hough grid\n",
    "theta = np.pi / 180  # angular resolution in radians of the Hough grid\n",
    "threshold = 10 # minimum number of votes (intersections in Hough grid cell)\n",
    "min_line_length = 20  # minimum number of pixels making up a line\n",
    "max_line_gap = 5  # maximum gap in pixels between connectable line segments\n",
    "\n",
    "line_image = np.copy(dilation_1) * 0  # creating a blank to draw lines on\n",
    "\n",
    "# Run Hough on edge detected image\n",
    "# Output \"lines\" is an array containing endpoints of detected line segments\n",
    "lines = cv2.HoughLinesP(edges, rho, theta, threshold, np.array([]),\n",
    "                    min_line_length, max_line_gap)\n",
    "\n",
    "for line in lines:\n",
    "    for x1,y1,x2,y2 in line:\n",
    "        cv2.line(line_image,(x1,y1),(x2,y2),(255,0,0),5)\n",
    "lines_edges = cv2.addWeighted(dilation_1, 0.8, line_image, 1, 0)\n",
    "cv2.imshow('checkinput', img)\n",
    "cv2.imshow('road lines', lines_edges)\n",
    "cv2.waitKey(0) \n",
    "cv2.destroyAllWindows()"
   ]
  },
  {
   "cell_type": "code",
   "execution_count": null,
   "metadata": {},
   "outputs": [],
   "source": [
    "#https://towardsdatascience.com/a-deep-dive-into-lane-detection-with-hough-transform-8f90fdd1322f"
   ]
  },
  {
   "cell_type": "code",
   "execution_count": null,
   "metadata": {},
   "outputs": [],
   "source": []
  },
  {
   "cell_type": "code",
   "execution_count": null,
   "metadata": {},
   "outputs": [],
   "source": []
  },
  {
   "cell_type": "code",
   "execution_count": null,
   "metadata": {},
   "outputs": [],
   "source": []
  },
  {
   "cell_type": "code",
   "execution_count": null,
   "metadata": {},
   "outputs": [],
   "source": []
  },
  {
   "cell_type": "code",
   "execution_count": null,
   "metadata": {},
   "outputs": [],
   "source": []
  }
 ],
 "metadata": {
  "kernelspec": {
   "display_name": "Python 3",
   "language": "python",
   "name": "python3"
  },
  "language_info": {
   "codemirror_mode": {
    "name": "ipython",
    "version": 3
   },
   "file_extension": ".py",
   "mimetype": "text/x-python",
   "name": "python",
   "nbconvert_exporter": "python",
   "pygments_lexer": "ipython3",
   "version": "3.8.3"
  }
 },
 "nbformat": 4,
 "nbformat_minor": 4
}
